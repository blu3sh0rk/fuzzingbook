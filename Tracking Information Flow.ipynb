{
 "cells": [
  {
   "cell_type": "code",
   "execution_count": 79,
   "metadata": {
    "collapsed": true
   },
   "outputs": [],
   "source": [
    "import fuzzingbook.bookutils\n",
    "from typing import List, Any, Optional, Union\n",
    "from fuzzingbook.InformationFlow import *\n",
    "from fuzzingbook.GrammarFuzzer import *"
   ]
  },
  {
   "cell_type": "code",
   "execution_count": 80,
   "metadata": {},
   "outputs": [
    {
     "name": "stdout",
     "output_type": "stream",
     "text": [
      "hell\n",
      "LOW\n"
     ]
    }
   ],
   "source": [
    "# 例如，可以用“LOW”标记来自第三方输入的字符串，这意味着它们具有较低的安全级别。在tstr对象的构造函数中传递污点:\n",
    "\n",
    "thello = tstr('hello', taint='LOW') # hello从用户输入中引入\n",
    "print(thello[:4])\n",
    "print(thello.taint)"
   ]
  },
  {
   "cell_type": "code",
   "execution_count": 81,
   "metadata": {},
   "outputs": [
    {
     "name": "stdout",
     "output_type": "stream",
     "text": [
      "[100, 101, 102, 103, 104, 105, 106, 107, 108, 109]\n",
      "SECRET\n"
     ]
    },
    {
     "data": {
      "text/plain": [
       "[100, 101, 102, 103, -1, 106, 107, 108, 109]"
      ]
     },
     "execution_count": 81,
     "metadata": {},
     "output_type": "execute_result"
    }
   ],
   "source": [
    "# ostr对象扩展了tstr对象，它不仅跟踪一个污点，还跟踪来自输入字符串的原始索引。\n",
    "# 这允许您精确地跟踪各个字符的来源。假设您有一个长字符串，在索引100处包含密码“joshua1234”。\n",
    "# 然后你可以使用一个如下所示的ostr来保存这个原点信息:\n",
    "\n",
    "secret = ostr(\"joshua1234\", origin=100, taint='SECRET')\n",
    "print(secret.origin)\n",
    "print(secret.taint)\n",
    "\n",
    "# ostr对象与Python字符串兼容，但字符串操作返回的是ostr对象(以及保存的原点和索引信息)。\n",
    "# 索引为-1表示对应的字符没有提供给ostr()构造函数的原点:\n",
    "\n",
    "secret_substr = (secret[0:4] + \"-\" + secret[6:])\n",
    "secret_substr.taint\n",
    "secret_substr.origin"
   ]
  },
  {
   "cell_type": "markdown",
   "metadata": {},
   "source": [
    "# A Vulnerable Database"
   ]
  },
  {
   "cell_type": "code",
   "execution_count": 82,
   "metadata": {},
   "outputs": [],
   "source": [
    "# 假设我们想要用Python实现内存中的数据库服务。这是一个相当脆弱的尝试。我们使用以下数据集。\n",
    "\n",
    "INVENTORY = \"\"\"\\\n",
    "1997,van,Ford,E350\n",
    "2000,car,Mercury,Cougar\n",
    "1999,car,Chevy,Venture\\\n",
    "\"\"\"\n",
    "\n",
    "VEHICLES = INVENTORY.split('\\n')"
   ]
  },
  {
   "cell_type": "code",
   "execution_count": 83,
   "metadata": {},
   "outputs": [
    {
     "data": {
      "text/plain": [
       "({'year': int, 'kind': str, 'company': str, 'model': str}, [])"
      ]
     },
     "execution_count": 83,
     "metadata": {},
     "output_type": "execute_result"
    }
   ],
   "source": [
    "def sample_db():\n",
    "    db = DB()\n",
    "    inventory_def = {'year': int, 'kind': str, 'company': str, 'model': str}\n",
    "    db.create_table('inventory', inventory_def)\n",
    "    return db\n",
    "\n",
    "db = sample_db()\n",
    "db.table('inventory')"
   ]
  },
  {
   "cell_type": "code",
   "execution_count": 84,
   "metadata": {},
   "outputs": [
    {
     "data": {
      "text/plain": [
       "int"
      ]
     },
     "execution_count": 84,
     "metadata": {},
     "output_type": "execute_result"
    }
   ],
   "source": [
    "db = sample_db()\n",
    "decl, rows = db.table('inventory')\n",
    "db.column(decl, 'year')"
   ]
  },
  {
   "cell_type": "code",
   "execution_count": 85,
   "metadata": {},
   "outputs": [
    {
     "data": {
      "text/plain": [
       "{'inventory': ({'year': int, 'kind': str, 'company': str, 'model': str},\n",
       "  [{'year': 1997, 'kind': 'van', 'company': 'Ford', 'model': 'E350'},\n",
       "   {'year': 2000, 'kind': 'car', 'company': 'Mercury', 'model': 'Cougar'},\n",
       "   {'year': 1999, 'kind': 'car', 'company': 'Chevy', 'model': 'Venture'}])}"
      ]
     },
     "execution_count": 85,
     "metadata": {},
     "output_type": "execute_result"
    }
   ],
   "source": [
    "some_db = DB()\n",
    "\n",
    "# 我们首先在数据库中创建一个具有正确数据类型的表。\n",
    "inventory_def = {'year': int, 'kind': str, 'company': str, 'model': str}\n",
    "db.create_table('inventory', inventory_def)\n",
    "\n",
    "for V in VEHICLES:\n",
    "    update_inventory(db, V)\n",
    "\n",
    "db.db"
   ]
  },
  {
   "cell_type": "code",
   "execution_count": 86,
   "metadata": {},
   "outputs": [
    {
     "data": {
      "text/plain": [
       "[(1997, 'van'), (2000, 'car'), (1999, 'car')]"
      ]
     },
     "execution_count": 86,
     "metadata": {},
     "output_type": "execute_result"
    }
   ],
   "source": [
    "db.sql('select year,kind from inventory')"
   ]
  },
  {
   "cell_type": "code",
   "execution_count": 87,
   "metadata": {},
   "outputs": [
    {
     "data": {
      "text/plain": [
       "[('Mercury', 'Cougar'), ('Chevy', 'Venture')]"
      ]
     },
     "execution_count": 87,
     "metadata": {},
     "output_type": "execute_result"
    }
   ],
   "source": [
    "db.sql(\"select company,model from inventory where kind == 'car'\")"
   ]
  },
  {
   "cell_type": "code",
   "execution_count": 88,
   "metadata": {},
   "outputs": [
    {
     "data": {
      "text/plain": [
       "[2007, 2010, 2009]"
      ]
     },
     "execution_count": 88,
     "metadata": {},
     "output_type": "execute_result"
    }
   ],
   "source": [
    "db.sql('select int(year)+10 from inventory')"
   ]
  },
  {
   "cell_type": "code",
   "execution_count": 89,
   "metadata": {},
   "outputs": [
    {
     "data": {
      "text/plain": [
       "{'inventory': ({'year': int, 'kind': str, 'company': str, 'model': str},\n",
       "  [{'year': 1997, 'kind': 'van', 'company': 'Ford', 'model': 'E350'},\n",
       "   {'year': 2000, 'kind': 'car', 'company': 'Mercury', 'model': 'Cougar'},\n",
       "   {'year': 1999, 'kind': 'car', 'company': 'Chevy', 'model': 'Venture'},\n",
       "   {'year': 1, 'kind': 'charriot', 'company': 'Rome', 'model': 'Quadriga'}])}"
      ]
     },
     "execution_count": 89,
     "metadata": {},
     "output_type": "execute_result"
    }
   ],
   "source": [
    "# 添加新的行\n",
    "db.sql(\"insert into inventory (year, kind, company, model) values (1, 'charriot', 'Rome', 'Quadriga')\")\n",
    "db.db"
   ]
  },
  {
   "cell_type": "code",
   "execution_count": 90,
   "metadata": {},
   "outputs": [
    {
     "data": {
      "text/plain": [
       "'1 records were deleted'"
      ]
     },
     "execution_count": 90,
     "metadata": {},
     "output_type": "execute_result"
    }
   ],
   "source": [
    "# 删除\n",
    "db.sql(\"delete from inventory where year < 1900\")"
   ]
  },
  {
   "cell_type": "markdown",
   "metadata": {},
   "source": [
    "Fuzzin SQL\n",
    "定义一个sql的语法"
   ]
  },
  {
   "cell_type": "code",
   "execution_count": 91,
   "metadata": {},
   "outputs": [
    {
     "name": "stdout",
     "output_type": "stream",
     "text": [
      "'delete from inventory where y/u-l+f/y<Y(c)/A-H*q'\n",
      ">  Invalid WHERE ('y/u-l+f/y<Y(c)/A-H*q')\n",
      "\n",
      "\"insert into inventory (G,Wmp,sl3hku3) values ('<','?')\"\n",
      ">  Column ('G') was not found\n",
      "\n",
      "\"insert into inventory (d0) values (',_G')\"\n",
      ">  Column ('d0') was not found\n",
      "\n",
      "'select P*Q-w/x from inventory where X<j==:==j*r-f'\n",
      ">  Invalid WHERE ('(X<j==:==j*r-f)')\n",
      "\n",
      "'select a>F*i from inventory where Q/I-_+P*j>.'\n",
      ">  Invalid WHERE ('(Q/I-_+P*j>.)')\n",
      "\n",
      "'select (V-i<T/g) from inventory where T/r/G<FK(m)/(i)'\n",
      ">  Invalid WHERE ('(T/r/G<FK(m)/(i))')\n",
      "\n",
      "'select (((i))),_(S,_)/L-k<H(Sv,R,n,W,Y) from inventory'\n",
      ">  Invalid WHERE ('((((i))),_(S,_)/L-k<H(Sv,R,n,W,Y))')\n",
      "\n",
      "'select (N==c*U/P/y),i-e/n*y,T!=w,u from inventory'\n",
      ">  Invalid WHERE ('((N==c*U/P/y),i-e/n*y,T!=w,u)')\n",
      "\n",
      "'update inventory set _=B,n=v where o-p*k-J>T'\n",
      ">  Column ('_') was not found\n",
      "\n",
      "'select s from inventory where w4g4<.m(_)/_>t'\n",
      ">  Invalid WHERE ('(w4g4<.m(_)/_>t)')\n",
      "\n"
     ]
    }
   ],
   "source": [
    "gf = GrammarFuzzer(INVENTORY_GRAMMAR_F)\n",
    "for _ in range(10):\n",
    "    query = gf.fuzz()\n",
    "    print(repr(query))\n",
    "    try:\n",
    "        res = db.sql(query)\n",
    "        print(repr(res))\n",
    "    except SQLException as e:\n",
    "        print(\"> \", e)\n",
    "        pass\n",
    "    except:\n",
    "        traceback.print_exc()\n",
    "        break\n",
    "    print()"
   ]
  },
  {
   "cell_type": "markdown",
   "metadata": {},
   "source": [
    "Fuzzing好像没有触发任何崩溃？这就说明程序没有任何问题吗？"
   ]
  },
  {
   "cell_type": "code",
   "execution_count": 92,
   "metadata": {},
   "outputs": [
    {
     "data": {
      "text/plain": [
       "[1997, 1999]"
      ]
     },
     "execution_count": 92,
     "metadata": {},
     "output_type": "execute_result"
    }
   ],
   "source": [
    "db.sql('select year from inventory where year < 2000')"
   ]
  },
  {
   "cell_type": "code",
   "execution_count": 93,
   "metadata": {},
   "outputs": [
    {
     "data": {
      "text/plain": [
       "[97, 0, 99]"
      ]
     },
     "execution_count": 93,
     "metadata": {},
     "output_type": "execute_result"
    }
   ],
   "source": [
    "# 这是因为如果year < 2000, year - 1900是有效的Python表达式。\n",
    "# (不过，它不是一个有效的SQL表达式。)\n",
    "db.sql('select year - 1900 if year < 2000 else year - 2000 from inventory')"
   ]
  },
  {
   "cell_type": "code",
   "execution_count": 94,
   "metadata": {},
   "outputs": [
    {
     "data": {
      "text/plain": [
       "['/home/lzy/Code/fuzzingbook\\n',\n",
       " '/home/lzy/Code/fuzzingbook\\n',\n",
       " '/home/lzy/Code/fuzzingbook\\n']"
      ]
     },
     "execution_count": 94,
     "metadata": {},
     "output_type": "execute_result"
    }
   ],
   "source": [
    "# 上面的问题是Python表达式可以做的事情没有任何限制。如果用户尝试以下操作会怎样呢\n",
    "# 可能实现命令注入，导致RCE\n",
    "db.sql('select __import__(\"os\").popen(\"pwd\").read() from inventory')"
   ]
  },
  {
   "cell_type": "code",
   "execution_count": 95,
   "metadata": {},
   "outputs": [],
   "source": [
    "# db.sql('select __import__(\"os\").popen(\"system(/bin/sh)\").read() from inventory')"
   ]
  },
  {
   "cell_type": "markdown",
   "metadata": {},
   "source": [
    "# 跟踪字符串污点\n",
    "可以执行不同级别的污染跟踪。最简单的方法是跟踪字符串片段起源于特定的环境，并且没有经过去除污染的过程。为此，我们只需要用tstr包装原始字符串和环境标识符(污染)，并在每个操作上生成tstr实例，结果是另一个字符串片段。属性taint持有一个标识派生此实例的环境的标签。"
   ]
  },
  {
   "cell_type": "code",
   "execution_count": 96,
   "metadata": {},
   "outputs": [
    {
     "data": {
      "text/plain": [
       "'LOW'"
      ]
     },
     "execution_count": 96,
     "metadata": {},
     "output_type": "execute_result"
    }
   ],
   "source": [
    "# 例如，如果我们在tstr中wrap了“hello”，那么我们应该能够访问它的污点\n",
    "thello: tstr = tstr('hello', taint='LOW')\n",
    "thello.taint"
   ]
  },
  {
   "cell_type": "code",
   "execution_count": 97,
   "metadata": {},
   "outputs": [
    {
     "data": {
      "text/plain": [
       "'LOW'"
      ]
     },
     "execution_count": 97,
     "metadata": {},
     "output_type": "execute_result"
    }
   ],
   "source": [
    "repr(thello).taint"
   ]
  },
  {
   "cell_type": "code",
   "execution_count": 98,
   "metadata": {},
   "outputs": [],
   "source": [
    "informationflow_init_1()\n",
    "INITIALIZER_LIST = [informationflow_init_1]\n",
    "\n",
    "def initialize():\n",
    "    for fn in INITIALIZER_LIST:\n",
    "        fn()"
   ]
  },
  {
   "cell_type": "code",
   "execution_count": 99,
   "metadata": {},
   "outputs": [
    {
     "data": {
      "text/plain": [
       "'LOW'"
      ]
     },
     "execution_count": 99,
     "metadata": {},
     "output_type": "execute_result"
    }
   ],
   "source": [
    "thello = tstr('hello', taint='LOW')\n",
    "thello[0].taint"
   ]
  },
  {
   "cell_type": "code",
   "execution_count": 100,
   "metadata": {},
   "outputs": [
    {
     "data": {
      "text/plain": [
       "'LOW'"
      ]
     },
     "execution_count": 100,
     "metadata": {},
     "output_type": "execute_result"
    }
   ],
   "source": [
    "thello[1:3].taint"
   ]
  },
  {
   "cell_type": "code",
   "execution_count": 101,
   "metadata": {},
   "outputs": [
    {
     "data": {
      "text/plain": [
       "'HIGH'"
      ]
     },
     "execution_count": 101,
     "metadata": {},
     "output_type": "execute_result"
    }
   ],
   "source": [
    "(tstr('foo', taint='HIGH') + 'bar').taint"
   ]
  },
  {
   "cell_type": "code",
   "execution_count": 102,
   "metadata": {},
   "outputs": [
    {
     "data": {
      "text/plain": [
       "'HIGH'"
      ]
     },
     "execution_count": 102,
     "metadata": {},
     "output_type": "execute_result"
    }
   ],
   "source": [
    "('foo' + tstr('bar', taint='HIGH')).taint"
   ]
  },
  {
   "cell_type": "code",
   "execution_count": 103,
   "metadata": {},
   "outputs": [
    {
     "data": {
      "text/plain": [
       "'LOW'"
      ]
     },
     "execution_count": 103,
     "metadata": {},
     "output_type": "execute_result"
    }
   ],
   "source": [
    "thello += ', world'\n",
    "thello.taint"
   ]
  },
  {
   "cell_type": "markdown",
   "metadata": {},
   "source": [
    "# 跟踪不信任的输入"
   ]
  },
  {
   "cell_type": "markdown",
   "metadata": {},
   "source": [
    "我们定义了一个“更好的”TrustedDB，它只接受被污染为“TRUSTED”的字符串。\n",
    "\n",
    "提供一个具有“未知”(即不存在)信任级别的字符串将导致TrustedDB失败"
   ]
  },
  {
   "cell_type": "code",
   "execution_count": 104,
   "metadata": {},
   "outputs": [],
   "source": [
    "bdb = TrustedDB(db.db)\n",
    "\n",
    "from fuzzingbook.ExpectError import ExpectError"
   ]
  },
  {
   "cell_type": "code",
   "execution_count": 105,
   "metadata": {},
   "outputs": [
    {
     "name": "stderr",
     "output_type": "stream",
     "text": [
      "Traceback (most recent call last):\n",
      "  File \"/tmp/ipykernel_1387027/3935989889.py\", line 2, in <cell line: 1>\n",
      "    bdb.sql(\"select year from INVENTORY\")\n",
      "  File \"/home/inspur/miniconda3/envs/fuzzingbook/lib/python3.10/site-packages/fuzzingbook/InformationFlow.py\", line 763, in sql\n",
      "    assert isinstance(s, tstr), \"Need a tainted string\"\n",
      "AssertionError: Need a tainted string (expected)\n"
     ]
    }
   ],
   "source": [
    "with ExpectError():\n",
    "    bdb.sql(\"select year from INVENTORY\")"
   ]
  },
  {
   "cell_type": "code",
   "execution_count": 106,
   "metadata": {},
   "outputs": [
    {
     "name": "stderr",
     "output_type": "stream",
     "text": [
      "Traceback (most recent call last):\n",
      "  File \"/tmp/ipykernel_1387027/3307042773.py\", line 3, in <cell line: 2>\n",
      "    bdb.sql(bad_user_input)\n",
      "  File \"/home/inspur/miniconda3/envs/fuzzingbook/lib/python3.10/site-packages/fuzzingbook/InformationFlow.py\", line 764, in sql\n",
      "    assert s.taint == 'TRUSTED', \"Need a string with trusted taint\"\n",
      "AssertionError: Need a string with trusted taint (expected)\n"
     ]
    }
   ],
   "source": [
    "bad_user_input = tstr('__import__(\"os\").popen(\"ls\").read()', taint='UNTRUSTED')\n",
    "with ExpectError():\n",
    "    bdb.sql(bad_user_input)"
   ]
  },
  {
   "cell_type": "markdown",
   "metadata": {},
   "source": [
    "因此，在计算过程中的某个地方，我们必须将“不可信的”输入转换为“可信的”字符串。这个过程被称为消毒处理。针对我们的目的，一个简单的消毒函数可以确保输入只包含少量允许的字符(不包括字母或引号);如果是这种情况，那么输入将获得一个新的“TRUSTED”污染。如果不是，则将字符串转换为(不可信的)空字符串;其他替代方法是抛出错误或转义或删除“不可信”字符。"
   ]
  },
  {
   "cell_type": "code",
   "execution_count": 107,
   "metadata": {},
   "outputs": [],
   "source": [
    "import re\n",
    "\n",
    "def sanitize(user_input):\n",
    "    assert isinstance(user_input, tstr)\n",
    "    if re.match(\n",
    "            r'^select +[-a-zA-Z0-9_, ()]+ from +[-a-zA-Z0-9_, ()]+$', user_input):\n",
    "        return tstr(user_input, taint='TRUSTED')\n",
    "    else:\n",
    "        return tstr('', taint='UNTRUSTED')"
   ]
  },
  {
   "cell_type": "code",
   "execution_count": 108,
   "metadata": {},
   "outputs": [
    {
     "data": {
      "text/plain": [
       "'select year,model from inventory'"
      ]
     },
     "execution_count": 108,
     "metadata": {},
     "output_type": "execute_result"
    }
   ],
   "source": [
    "good_user_input = tstr(\"select year,model from inventory\", taint='UNTRUSTED')\n",
    "sanitized_input = sanitize(good_user_input)\n",
    "sanitized_input"
   ]
  },
  {
   "cell_type": "code",
   "execution_count": 109,
   "metadata": {},
   "outputs": [
    {
     "data": {
      "text/plain": [
       "'TRUSTED'"
      ]
     },
     "execution_count": 109,
     "metadata": {},
     "output_type": "execute_result"
    }
   ],
   "source": [
    "sanitized_input.taint"
   ]
  },
  {
   "cell_type": "code",
   "execution_count": 110,
   "metadata": {},
   "outputs": [
    {
     "data": {
      "text/plain": [
       "[(1997, 'E350'), (2000, 'Cougar'), (1999, 'Venture')]"
      ]
     },
     "execution_count": 110,
     "metadata": {},
     "output_type": "execute_result"
    }
   ],
   "source": [
    "bdb.sql(sanitized_input)"
   ]
  },
  {
   "cell_type": "code",
   "execution_count": 111,
   "metadata": {},
   "outputs": [
    {
     "data": {
      "text/plain": [
       "''"
      ]
     },
     "execution_count": 111,
     "metadata": {},
     "output_type": "execute_result"
    }
   ],
   "source": [
    "sanitized_input = sanitize(bad_user_input)\n",
    "sanitized_input"
   ]
  },
  {
   "cell_type": "code",
   "execution_count": 112,
   "metadata": {},
   "outputs": [
    {
     "data": {
      "text/plain": [
       "'UNTRUSTED'"
      ]
     },
     "execution_count": 112,
     "metadata": {},
     "output_type": "execute_result"
    }
   ],
   "source": [
    "sanitized_input.taint"
   ]
  },
  {
   "cell_type": "code",
   "execution_count": 113,
   "metadata": {},
   "outputs": [
    {
     "name": "stderr",
     "output_type": "stream",
     "text": [
      "Traceback (most recent call last):\n",
      "  File \"/tmp/ipykernel_1387027/249000876.py\", line 2, in <cell line: 1>\n",
      "    bdb.sql(sanitized_input)\n",
      "  File \"/home/inspur/miniconda3/envs/fuzzingbook/lib/python3.10/site-packages/fuzzingbook/InformationFlow.py\", line 764, in sql\n",
      "    assert s.taint == 'TRUSTED', \"Need a string with trusted taint\"\n",
      "AssertionError: Need a string with trusted taint (expected)\n"
     ]
    }
   ],
   "source": [
    "with ExpectError():\n",
    "    bdb.sql(sanitized_input)"
   ]
  },
  {
   "cell_type": "markdown",
   "metadata": {},
   "source": [
    "类似地，这种方法可以应用于检测和防止web安全中的sql注入。"
   ]
  },
  {
   "cell_type": "markdown",
   "metadata": {},
   "source": [
    "# 污点感知的模糊测试"
   ]
  }
 ],
 "metadata": {
  "kernelspec": {
   "display_name": "Python 3.10.4 ('fuzzingbook')",
   "language": "python",
   "name": "python3"
  },
  "language_info": {
   "codemirror_mode": {
    "name": "ipython",
    "version": 3
   },
   "file_extension": ".py",
   "mimetype": "text/x-python",
   "name": "python",
   "nbconvert_exporter": "python",
   "pygments_lexer": "ipython3",
   "version": "3.10.4"
  },
  "vscode": {
   "interpreter": {
    "hash": "9b1ed77f9ea81c6e9dfe59e57be503a407740b94738e25eb2036acac28f13d33"
   }
  }
 },
 "nbformat": 4,
 "nbformat_minor": 0
}
